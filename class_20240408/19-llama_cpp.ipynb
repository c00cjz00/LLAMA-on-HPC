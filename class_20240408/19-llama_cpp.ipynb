{
 "cells": [
  {
   "cell_type": "code",
   "execution_count": null,
   "id": "b178de1c",
   "metadata": {},
   "outputs": [],
   "source": [
    "%%bash\n",
    "# 安裝 llama.cpp\n",
    "git clone https://github.com/ggerganov/llama.cpp.git\n",
    "cd llama.cpp\n",
    "LLAMA_CUBLAS=1 make\n",
    "#pip install -r requirements.txt"
   ]
  },
  {
   "cell_type": "code",
   "execution_count": 3,
   "id": "40e2e98f",
   "metadata": {},
   "outputs": [
    {
     "name": "stdout",
     "output_type": "stream",
     "text": [
      "\u001b[33mWARNING: Running pip as the 'root' user can result in broken permissions and conflicting behaviour with the system package manager. It is recommended to use a virtual environment instead: https://pip.pypa.io/warnings/venv\u001b[0m\u001b[33m\n",
      "\u001b[0m"
     ]
    }
   ],
   "source": [
    "#  IProgress ipywidgets\n",
    "!pip install  IProgress ipywidgets -q"
   ]
  },
  {
   "cell_type": "code",
   "execution_count": 4,
   "id": "e236cdac",
   "metadata": {},
   "outputs": [],
   "source": [
    "# Library及TOKEN\n",
    "from huggingface_hub import create_repo, HfApi, ModelCard\n",
    "hf_token=\"hf_\"  # 修改為你的hf_token\n",
    "api = HfApi()\n",
    "hf_api = HfApi(\n",
    "    endpoint=\"https://huggingface.co\", # Can be a Private Hub endpoint.\n",
    "    token=hf_token, # Token is not persisted on the machine.\n",
    ")"
   ]
  },
  {
   "cell_type": "code",
   "execution_count": null,
   "id": "77877dc7",
   "metadata": {},
   "outputs": [],
   "source": [
    "# 從本地端轉檔\n",
    "# Quantization methods: `iqs_2`, `iqs_3`, `q2_k`, `q3_k_l`, `q3_k_m`, `q3_k_s`, `q4_0`, `q4_1`, `q4_k_m`, `q4_k_s`, `q5_0`, `q5_1`, `q5_k_m`, `q5_k_s`, `q6_k`, `q8_0`, etc.\n",
    "QUANTIZATION_FORMAT = \"q5_k_m\" #  修改為你的量化格式, 可以多種\n",
    "QUANTIZATION_METHODS = QUANTIZATION_FORMAT.replace(\" \", \"\").split(\",\")\n",
    "\n",
    "# MODEL ID\n",
    "USERNAME = \"c00cjz00\" # # 修改為你的HF帳號 \n",
    "MODEL_ID=\"meta-llama/Meta-Llama-3-8B-Instruct\" # 修改為你參考來源下載 範例model card\n",
    "MODEL_NAME = \"Meta-Llama-3-8B-Instruct\"  # 修改為你的新命名model name \n",
    "MODEL_SOURCE = \"~/.cache/huggingface/hub/models--meta-llama--Meta-Llama-3-8B-Instruct/snapshots/c4a54320a52ed5f88b7a2f84496903ea4ff07b45\"   # 修改為你的本地端要轉檔的model\n",
    "\n",
    "# Convert to fp16\n",
    "fp16 = f\"{MODEL_NAME}/{MODEL_NAME.lower()}.fp16.bin\"\n",
    "!mkdir -p {MODEL_NAME}\n",
    "!./llama.cpp/convert-hf-to-gguf.py {MODEL_SOURCE} --outtype f16 --outfile {fp16}\n",
    "\n",
    "# Quantize the model for each method in the QUANTIZATION_METHODS list\n",
    "for method in QUANTIZATION_METHODS:\n",
    "    qtype = f\"{MODEL_NAME}/{MODEL_NAME.lower()}.{method.upper()}.gguf\"\n",
    "    !./llama.cpp/quantize {fp16} {qtype} {method}"
   ]
  },
  {
   "cell_type": "code",
   "execution_count": null,
   "id": "64b32e44",
   "metadata": {},
   "outputs": [
    {
     "name": "stderr",
     "output_type": "stream",
     "text": [
      "meta-llama-3-8b-instruct.Q5_K_M.gguf:   2%|▏         | 93.8M/5.73G [00:09<10:20, 9.09MB/s]  "
     ]
    }
   ],
   "source": [
    "# Create model card 並上傳\n",
    "card = ModelCard.load(MODEL_ID)\n",
    "card.data.tags.append(\"autoquant\")\n",
    "card.data.tags.append(\"gguf\")\n",
    "card.save(f'{MODEL_NAME}/README.md')\n",
    "\n",
    "# Upload model\n",
    "create_repo(\n",
    "    repo_id = f\"{USERNAME}/{MODEL_NAME}-GGUF\",\n",
    "    repo_type=\"model\",\n",
    "    exist_ok=True,\n",
    "    token=hf_token\n",
    ")\n",
    "\n",
    "\n",
    "api.upload_folder(\n",
    "    folder_path=MODEL_NAME,\n",
    "    repo_id=f\"{USERNAME}/{MODEL_NAME}-GGUF\",\n",
    "    allow_patterns=[\"*.gguf\",\"$.md\"],\n",
    "    token=hf_token\n",
    ")"
   ]
  },
  {
   "cell_type": "code",
   "execution_count": null,
   "id": "7761bcdf",
   "metadata": {},
   "outputs": [],
   "source": []
  },
  {
   "cell_type": "code",
   "execution_count": null,
   "id": "5c9d3e23",
   "metadata": {},
   "outputs": [],
   "source": []
  }
 ],
 "metadata": {
  "kernelspec": {
   "display_name": "Python 3 (ipykernel)",
   "language": "python",
   "name": "python3"
  },
  "language_info": {
   "codemirror_mode": {
    "name": "ipython",
    "version": 3
   },
   "file_extension": ".py",
   "mimetype": "text/x-python",
   "name": "python",
   "nbconvert_exporter": "python",
   "pygments_lexer": "ipython3",
   "version": "3.10.12"
  }
 },
 "nbformat": 4,
 "nbformat_minor": 5
}
